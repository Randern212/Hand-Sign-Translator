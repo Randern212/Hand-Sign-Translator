{
 "cells": [
  {
   "cell_type": "code",
   "execution_count": 3,
   "id": "a631f492",
   "metadata": {},
   "outputs": [],
   "source": [
    "import os\n",
    "import cv2\n",
    "import mediapipe as mp\n",
    "import numpy as np\n",
    "import pandas as pd\n",
    "from PIL import Image\n"
   ]
  },
  {
   "cell_type": "code",
   "execution_count": null,
   "id": "9f072802",
   "metadata": {},
   "outputs": [],
   "source": [
    "def createImageDataset(path):\n",
    "    mpHands = mp.solutions.hands\n",
    "    dataset=[]\n",
    "    with mpHands.Hands(min_detection_confidence=0.5, min_tracking_confidence=0.5) as hands:\n",
    "        for root,dirName,files in os.walk(path):\n",
    "            for imgName in files:\n",
    "                imgPath = os.path.join(root,imgName)\n",
    "                if imgName.lower().endswith(('.png', '.jpg', '.jpeg')):\n",
    "                    img = Image.open(imgPath).convert('RGB')\n",
    "                    imgNP=np.array(img)\n",
    "                    features=hands.process(imgNP)\n",
    "                    dataset.append(np.append(os.path.basename(root),features))\n",
    "    return pd.DataFrame(dataset)"
   ]
  },
  {
   "cell_type": "code",
   "execution_count": 7,
   "id": "b784cad3",
   "metadata": {},
   "outputs": [
    {
     "ename": "KeyboardInterrupt",
     "evalue": "",
     "output_type": "error",
     "traceback": [
      "\u001b[31m---------------------------------------------------------------------------\u001b[39m",
      "\u001b[31mKeyboardInterrupt\u001b[39m                         Traceback (most recent call last)",
      "\u001b[36mCell\u001b[39m\u001b[36m \u001b[39m\u001b[32mIn[7]\u001b[39m\u001b[32m, line 3\u001b[39m\n\u001b[32m      1\u001b[39m letterTestDF=createImageDataset(\u001b[33m'\u001b[39m\u001b[33mdatasets\u001b[39m\u001b[33m\\\u001b[39m\u001b[33mlettersDF\u001b[39m\u001b[38;5;130;01m\\a\u001b[39;00m\u001b[33msl_alphabet_test\u001b[39m\u001b[33m'\u001b[39m)\n\u001b[32m      2\u001b[39m letterTrainDF=createImageDataset(\u001b[33m'\u001b[39m\u001b[33mdatasets\u001b[39m\u001b[33m\\\u001b[39m\u001b[33mlettersDF\u001b[39m\u001b[38;5;130;01m\\a\u001b[39;00m\u001b[33msl_alphabet_train\u001b[39m\u001b[33m'\u001b[39m)\n\u001b[32m----> \u001b[39m\u001b[32m3\u001b[39m numberDF=\u001b[43mcreateImageDataset\u001b[49m\u001b[43m(\u001b[49m\u001b[33;43m'\u001b[39;49m\u001b[33;43mdatasets\u001b[39;49m\u001b[33;43m\\\u001b[39;49m\u001b[33;43mDFnumbers\u001b[39;49m\u001b[33;43m'\u001b[39;49m\u001b[43m)\u001b[49m\n",
      "\u001b[36mCell\u001b[39m\u001b[36m \u001b[39m\u001b[32mIn[6]\u001b[39m\u001b[32m, line 11\u001b[39m, in \u001b[36mcreateImageDataset\u001b[39m\u001b[34m(path)\u001b[39m\n\u001b[32m      9\u001b[39m                 img = Image.open(imgPath).convert(\u001b[33m'\u001b[39m\u001b[33mRGB\u001b[39m\u001b[33m'\u001b[39m)\n\u001b[32m     10\u001b[39m                 imgNP=np.array(img)\n\u001b[32m---> \u001b[39m\u001b[32m11\u001b[39m                 features=\u001b[43mhands\u001b[49m\u001b[43m.\u001b[49m\u001b[43mprocess\u001b[49m\u001b[43m(\u001b[49m\u001b[43mimgNP\u001b[49m\u001b[43m)\u001b[49m\n\u001b[32m     12\u001b[39m                 dataset.append(np.append(dirName,features))\n\u001b[32m     13\u001b[39m \u001b[38;5;28;01mreturn\u001b[39;00m pd.DataFrame(dataset)\n",
      "\u001b[36mFile \u001b[39m\u001b[32mc:\\Users\\pc\\.conda\\envs\\DeepLearning\\Lib\\site-packages\\mediapipe\\python\\solutions\\hands.py:153\u001b[39m, in \u001b[36mHands.process\u001b[39m\u001b[34m(self, image)\u001b[39m\n\u001b[32m    132\u001b[39m \u001b[38;5;28;01mdef\u001b[39;00m\u001b[38;5;250m \u001b[39m\u001b[34mprocess\u001b[39m(\u001b[38;5;28mself\u001b[39m, image: np.ndarray) -> NamedTuple:\n\u001b[32m    133\u001b[39m \u001b[38;5;250m  \u001b[39m\u001b[33;03m\"\"\"Processes an RGB image and returns the hand landmarks and handedness of each detected hand.\u001b[39;00m\n\u001b[32m    134\u001b[39m \n\u001b[32m    135\u001b[39m \u001b[33;03m  Args:\u001b[39;00m\n\u001b[32m   (...)\u001b[39m\u001b[32m    150\u001b[39m \u001b[33;03m         right hand) of the detected hand.\u001b[39;00m\n\u001b[32m    151\u001b[39m \u001b[33;03m  \"\"\"\u001b[39;00m\n\u001b[32m--> \u001b[39m\u001b[32m153\u001b[39m   \u001b[38;5;28;01mreturn\u001b[39;00m \u001b[38;5;28;43msuper\u001b[39;49m\u001b[43m(\u001b[49m\u001b[43m)\u001b[49m\u001b[43m.\u001b[49m\u001b[43mprocess\u001b[49m\u001b[43m(\u001b[49m\u001b[43minput_data\u001b[49m\u001b[43m=\u001b[49m\u001b[43m{\u001b[49m\u001b[33;43m'\u001b[39;49m\u001b[33;43mimage\u001b[39;49m\u001b[33;43m'\u001b[39;49m\u001b[43m:\u001b[49m\u001b[43m \u001b[49m\u001b[43mimage\u001b[49m\u001b[43m}\u001b[49m\u001b[43m)\u001b[49m\n",
      "\u001b[36mFile \u001b[39m\u001b[32mc:\\Users\\pc\\.conda\\envs\\DeepLearning\\Lib\\site-packages\\mediapipe\\python\\solution_base.py:340\u001b[39m, in \u001b[36mSolutionBase.process\u001b[39m\u001b[34m(self, input_data)\u001b[39m\n\u001b[32m    334\u001b[39m   \u001b[38;5;28;01melse\u001b[39;00m:\n\u001b[32m    335\u001b[39m     \u001b[38;5;28mself\u001b[39m._graph.add_packet_to_input_stream(\n\u001b[32m    336\u001b[39m         stream=stream_name,\n\u001b[32m    337\u001b[39m         packet=\u001b[38;5;28mself\u001b[39m._make_packet(input_stream_type,\n\u001b[32m    338\u001b[39m                                  data).at(\u001b[38;5;28mself\u001b[39m._simulated_timestamp))\n\u001b[32m--> \u001b[39m\u001b[32m340\u001b[39m \u001b[38;5;28;43mself\u001b[39;49m\u001b[43m.\u001b[49m\u001b[43m_graph\u001b[49m\u001b[43m.\u001b[49m\u001b[43mwait_until_idle\u001b[49m\u001b[43m(\u001b[49m\u001b[43m)\u001b[49m\n\u001b[32m    341\u001b[39m \u001b[38;5;66;03m# Create a NamedTuple object where the field names are mapping to the graph\u001b[39;00m\n\u001b[32m    342\u001b[39m \u001b[38;5;66;03m# output stream names.\u001b[39;00m\n\u001b[32m    343\u001b[39m \u001b[38;5;28;01mif\u001b[39;00m \u001b[38;5;28mself\u001b[39m._output_stream_type_info \u001b[38;5;129;01mis\u001b[39;00m \u001b[38;5;28;01mNone\u001b[39;00m:\n",
      "\u001b[31mKeyboardInterrupt\u001b[39m: "
     ]
    }
   ],
   "source": [
    "letterTestDF=createImageDataset('datasets\\lettersDF\\asl_alphabet_test')\n",
    "letterTrainDF=createImageDataset('datasets\\lettersDF\\asl_alphabet_train')\n",
    "numberDF=createImageDataset('datasets\\DFnumbers')"
   ]
  }
 ],
 "metadata": {
  "kernelspec": {
   "display_name": "Python 3",
   "language": "python",
   "name": "python3"
  },
  "language_info": {
   "codemirror_mode": {
    "name": "ipython",
    "version": 3
   },
   "file_extension": ".py",
   "mimetype": "text/x-python",
   "name": "python",
   "nbconvert_exporter": "python",
   "pygments_lexer": "ipython3",
   "version": "3.11.13"
  }
 },
 "nbformat": 4,
 "nbformat_minor": 5
}
